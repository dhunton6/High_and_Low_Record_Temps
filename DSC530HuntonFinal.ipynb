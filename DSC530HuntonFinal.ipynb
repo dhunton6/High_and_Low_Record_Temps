{
 "cells": [
  {
   "cell_type": "markdown",
   "metadata": {},
   "source": [
    "# Record-Setting Temperatures\n",
    "\n",
    "In talking with people about global warming (which I prefer to call Chaos Weather, as it seems more accurate to me), they often point out record cold temperatures as a sign against climate change. Ignoring the question of whether an increase in record low winter temperatures would prove or disprove climate change, I decided to explore whether there truly are more records being set now than a century ago.\n",
    "\n",
    "I decided that there were a number of different kinds of records which might work for my research:\n",
    "- High temperatures\n",
    "- Low temperatures\n",
    "- High precipitation (taking into account both rain and snow)\n",
    "- Droughts\n",
    "- High pressure readings\n",
    "- Low pressure readings\n",
    "- Wind speeds (maximum gust and/or maximum sustained)\n",
    "- Storms (tornadoes and hurricanes)\n",
    "\n",
    "When I first began to research, I found a NOAA data source (C00781) that showed weather record temperatures, which I believed would save me a lot of time that I could use in locating additional data. However, in attempting to download this database, I was informed that it is not actually a database, but instead a piece of software on their server that finds whether a record was set on a particular day. There is no digital file available.\n",
    "\n",
    "After downloading and starting to process temperature files from NOAA (processed and summarized on kaggle), I discovered that each year's data file contained 1-40 million lines of data. I had originally intended to analyze 20 years (as well as additional types of data) from each decade, but computing and time constraints has limited that to 5 years (and only temperature data).\n",
    "\n",
    "Because of the size of the files, I will attach my file processing code in a separate .py file so it doesn't freeze up your computer as you read this summary. In that function, I read in the data from all of the daily data lines, save and process the info needed:\n",
    "- Mean high temperatures\n",
    "    - Also separated by hemisphere\n",
    "- Mean low temperatures\n",
    "    - Also separated by hemisphere\n",
    "- Record high temperatures\n",
    "    - Also separated by hemisphere\n",
    "- Record low temperatures\n",
    "    - Also separated by hemisphere\n",
    "\n",
    "And since I have the data loaded (and don't want to load it all again), I also separate out the data needed for pmf and cdf charts.\n",
    "\n",
    "The first step for analyzing data is to load the packages that will be needed."
   ]
  },
  {
   "cell_type": "code",
   "execution_count": 1,
   "metadata": {},
   "outputs": [],
   "source": [
    "import matplotlib.pyplot as plt; plt.rcdefaults()\n",
    "import pandas as pd\n",
    "import numpy as np\n",
    "import matplotlib.pyplot as plt\n",
    "from statistics import mean"
   ]
  },
  {
   "cell_type": "markdown",
   "metadata": {},
   "source": [
    "The next step is to look at the histograms of the mean temperatures. I knew that I would want a bunch of histograms, so I created a function to plot them:"
   ]
  },
  {
   "cell_type": "code",
   "execution_count": 2,
   "metadata": {},
   "outputs": [],
   "source": [
    "def plot_my_hist(obj,md,yp,ylab,title):\n",
    "    #display chart\n",
    "    plt.bar(yp, md, align='center')\n",
    "    plt.xticks(yp, obj)\n",
    "    plt.ylabel(ylab)\n",
    "    plt.title(title)\n",
    "    plt.show()"
   ]
  },
  {
   "cell_type": "markdown",
   "metadata": {},
   "source": [
    "Then I charted the low temperatures and high temperatures:"
   ]
  },
  {
   "cell_type": "code",
   "execution_count": 3,
   "metadata": {},
   "outputs": [],
   "source": [
    "def create_histograms():\n",
    "    # Set up data for charting\n",
    "    my_months = ('Jan','Feb','Mar','Apr','May','Jun','Jul','Aug','Sep',\n",
    "                  'Oct','Nov','Dec')\n",
    "    y_pos = np.arange(12)\n",
    "    yaxis_label='Temperature in Degrees F'\n",
    "\n",
    "    my_data = pd.read_csv(r'I:\\NOAAData\\OriginalMeanLows.csv',\n",
    "                          names=['Month','Temp'])\n",
    "    to_chart = my_data['Temp'].to_list()\n",
    "    plot_my_hist(my_months,to_chart,y_pos,yaxis_label,\n",
    "                 'Mean Low Temps at Chosen Stations')\n",
    "\n",
    "    my_data = pd.read_csv(r'I:\\NOAAData\\OriginalMeanHighs.csv',\n",
    "                          names=['Month','Temp'])\n",
    "    to_chart = my_data['Temp'].to_list()\n",
    "    plot_my_hist(my_months,to_chart,y_pos,yaxis_label,\n",
    "                 'Mean High Temps at Chosen Stations')"
   ]
  },
  {
   "cell_type": "markdown",
   "metadata": {},
   "source": [
    "When I saw how flat the charts were, I realized that I would need to separate out the northern and southern hemispheres since the two sets of seasons run opposite and they're \"balancing each other\" to display that flat chart. Here are the four charts:"
   ]
  },
  {
   "cell_type": "code",
   "execution_count": 4,
   "metadata": {},
   "outputs": [],
   "source": [
    "def create_histograms():\n",
    "    # Set up data for charting\n",
    "    my_months = ('Jan','Feb','Mar','Apr','May','Jun','Jul','Aug','Sep',\n",
    "                  'Oct','Nov','Dec')\n",
    "    y_pos = np.arange(12)\n",
    "    yaxis_label='Temperature in Degrees F'\n",
    "\n",
    "    # Print Nothern Hemisphere charts\n",
    "    my_data = pd.read_csv(r'I:\\NOAAData\\NorthHemMeanLows.csv',\n",
    "                          names=['Month','Temp'])\n",
    "    to_chart = my_data['Temp'].to_list()\n",
    "    plot_my_hist(my_months,to_chart,y_pos,yaxis_label,\n",
    "                 'Mean Low Temps at Northern Hemisphere Stations')\n",
    "\n",
    "    my_data = pd.read_csv(r'I:\\NOAAData\\NorthHemMeanHighs.csv',\n",
    "                          names=['Month','Temp'])\n",
    "    to_chart = my_data['Temp'].to_list()\n",
    "    plot_my_hist(my_months,to_chart,y_pos,yaxis_label,\n",
    "                 'Mean High Temps at Northern Hemisphere Stations')\n",
    "\n",
    "    # Print Southern Hemisphere charts\n",
    "    my_data = pd.read_csv(r'I:\\NOAAData\\SouthHemMeanLows.csv',\n",
    "                          names=['Month','Temp'])\n",
    "    to_chart = my_data['Temp'].to_list()\n",
    "    plot_my_hist(my_months,to_chart,y_pos,yaxis_label,\n",
    "                 'Mean Low Temps at Southern Hemisphere Stations')\n",
    "\n",
    "    my_data = pd.read_csv(r'I:\\NOAAData\\SouthHemMeanHighs.csv',\n",
    "                          names=['Month','Temp'])\n",
    "    to_chart = my_data['Temp'].to_list()\n",
    "    plot_my_hist(my_months,to_chart,y_pos,yaxis_label,\n",
    "                 'Mean High Temps at Southern Hemisphere Stations')"
   ]
  },
  {
   "cell_type": "markdown",
   "metadata": {},
   "source": [
    "Then I realized that if I shifted the temperatures for the southern hemisphere so that the high temperatures lined up with the high temps in the northern hemisphere, I would get a much more comprehensive look at the real temperature distribution:"
   ]
  },
  {
   "cell_type": "code",
   "execution_count": 5,
   "metadata": {},
   "outputs": [],
   "source": [
    "def create_histograms():\n",
    "    # Set up data for charting\n",
    "    com_months = ('Jan/Jul','Feb/Aug','Mar/Sep','Apr/Oct','May/Nov','Jun/Dec',\n",
    "                  'Jul/Jan','Aug/Feb','Sep/Mar','Oct/Apr','Nov/May','Dec/Jun')\n",
    "    y_pos = np.arange(12)\n",
    "    yaxis_label='Temperature in Degrees F'\n",
    "\n",
    "    # Print corrected charts for all stations\n",
    "    my_data = pd.read_csv(r'I:\\NOAAData\\NorthHemMeanLows.csv',\n",
    "                          names=['Month','Temp'])\n",
    "    to_chart_lows = my_data['Temp'].to_list()\n",
    "    plot_my_hist(com_months,to_chart_lows,y_pos,yaxis_label,\n",
    "                 'Mean Low Temps at Selected Stations')\n",
    "\n",
    "    my_data = pd.read_csv(r'I:\\NOAAData\\NorthHemMeanHighs.csv',\n",
    "                          names=['Month','Temp'])\n",
    "    to_chart_highs = my_data['Temp'].to_list()\n",
    "    plot_my_hist(com_months,to_chart_highs,y_pos,yaxis_label,\n",
    "                 'Mean High Temps at Selected Stations')"
   ]
  },
  {
   "cell_type": "markdown",
   "metadata": {},
   "source": [
    "The next step is normally to have a look at the data a little more closely, but these calculations kept crashing my computer.\n",
    "\n",
    "I was able to pull the data into another processing file and was able to find the following information:\n",
    "\n",
    "Percent of records set for high temperatures by century:\n",
    "- 1900's: 72.22%\n",
    "- 2000's: 27.78%\n",
    "\n",
    "Percent of records set for low temperatures by century:\n",
    "- 1900's: 25.00%\n",
    "- 2000's: 75.00%\n",
    "\n",
    "So you can see that there is a big difference between high temperature records and low temperature records. With a better computer, it would be possible to determine if this is statistically significant or not."
   ]
  },
  {
   "cell_type": "code",
   "execution_count": null,
   "metadata": {},
   "outputs": [],
   "source": []
  }
 ],
 "metadata": {
  "kernelspec": {
   "display_name": "Python 3",
   "language": "python",
   "name": "python3"
  },
  "language_info": {
   "codemirror_mode": {
    "name": "ipython",
    "version": 3
   },
   "file_extension": ".py",
   "mimetype": "text/x-python",
   "name": "python",
   "nbconvert_exporter": "python",
   "pygments_lexer": "ipython3",
   "version": "3.7.4"
  }
 },
 "nbformat": 4,
 "nbformat_minor": 4
}
